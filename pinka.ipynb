{
  "nbformat": 4,
  "nbformat_minor": 0,
  "metadata": {
    "colab": {
      "provenance": [],
      "authorship_tag": "ABX9TyNy89xTqx/Kv9UBPWPpqyMY",
      "include_colab_link": true
    },
    "kernelspec": {
      "name": "python3",
      "display_name": "Python 3"
    },
    "language_info": {
      "name": "python"
    }
  },
  "cells": [
    {
      "cell_type": "markdown",
      "metadata": {
        "id": "view-in-github",
        "colab_type": "text"
      },
      "source": [
        "<a href=\"https://colab.research.google.com/github/Harsh648/Harsh648/blob/main/pinka.ipynb\" target=\"_parent\"><img src=\"https://colab.research.google.com/assets/colab-badge.svg\" alt=\"Open In Colab\"/></a>"
      ]
    },
    {
      "cell_type": "code",
      "execution_count": 18,
      "metadata": {
        "colab": {
          "base_uri": "https://localhost:8080/"
        },
        "id": "ZntfIJZojka_",
        "outputId": "19cd6d40-01a8-47fa-8b34-86df486a4fef"
      },
      "outputs": [
        {
          "output_type": "stream",
          "name": "stdout",
          "text": [
            "                                                            \n",
            "                                                            \n",
            "                                                            \n",
            "                AAPINKAAP           PINKAAPIN               \n",
            "            INKAAPINKAAPINKAA   KAAPINKAAPINKAAPI           \n",
            "          PINKAAPINKAAPINKAAPINKAAPINKAAPINKAAPINKA         \n",
            "         PINKAAPINKAAPINKAAPINKAAPINKAAPINKAAPINKAAP        \n",
            "        PINKAAPINKAAPINKAAPINKAAPINKAAPINKAAPINKAAPIN       \n",
            "        INKAAPINKAAPINKAAPINKAAPINKAAPINKAAPINKAAPINK       \n",
            "        NKAAPINKAAPINKAAPINKAAPINKAAPINKAAPINKAAPINKA       \n",
            "        KAAPINKAAPINKAAPINKAAPINKAAPINKAAPINKAAPINKAA       \n",
            "        AAPINKAAPINKAAPINKAAPINKAAPINKAAPINKAAPINKAAP       \n",
            "        APINKAAPINKAAPINKAAPINKAAPINKAAPINKAAPINKAAPI       \n",
            "         INKAAPINKAAPINKAAPINKAAPINKAAPINKAAPINKAAPI        \n",
            "          KAAPINKAAPINKAAPINKAAPINKAAPINKAAPINKAAPI         \n",
            "          AAPINKAAPINKAAPINKAAPINKAAPINKAAPINKAAPIN         \n",
            "            INKAAPINKAAPINKAAPINKAAPINKAAPINKAAPI           \n",
            "             KAAPINKAAPINKAAPINKAAPINKAAPINKAAPI            \n",
            "              APINKAAPINKAAPINKAAPINKAAPINKAAPI             \n",
            "                NKAAPINKAAPINKAAPINKAAPINKAAP               \n",
            "                  APINKAAPINKAAPINKAAPINKAA                 \n",
            "                    NKAAPINKAAPINKAAPINKA                   \n",
            "                       PINKAAPINKAAPIN                      \n",
            "                          AAPINKAAP                         \n",
            "                             NKA                            \n",
            "                              A                             \n",
            "                                                            \n",
            "                                                            \n",
            "                                                            \n",
            "                                                            \n"
          ]
        }
      ],
      "source": [
        "print('\\n'.join\n",
        "([''.join\n",
        "([('PINKAA' [(x-y)%6]\n",
        "if((x*0.05)**2+(y*0.1)**2-1) **3-(x*0.05)**2*(y*0.1)\n",
        "**3<=0 else' ')\n",
        "for x in range(-30,30)])\n",
        "for y in range(15,-15,-1)]))"
      ]
    },
    {
      "cell_type": "code",
      "source": [],
      "metadata": {
        "id": "4pO890eOockB"
      },
      "execution_count": null,
      "outputs": []
    },
    {
      "cell_type": "code",
      "source": [],
      "metadata": {
        "id": "fsx96vUIodIh"
      },
      "execution_count": null,
      "outputs": []
    }
  ]
}